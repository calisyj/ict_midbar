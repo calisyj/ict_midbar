{
 "cells": [
  {
   "cell_type": "code",
   "execution_count": 28,
   "id": "93c49083",
   "metadata": {},
   "outputs": [],
   "source": [
    "import os\n",
    "import xml.etree.ElementTree as ET\n",
    "import pandas as pd\n",
    "import numpy as np\n",
    "from shapely.geometry import LineString\n",
    "from datetime import datetime"
   ]
  },
  {
   "cell_type": "code",
   "execution_count": 29,
   "id": "5e3ec95d",
   "metadata": {},
   "outputs": [],
   "source": [
    "def distance(xml_path):\n",
    "    df = pd.DataFrame(columns=[\"name\", \"time\", \"root_distnace\"]) \n",
    "    for path, dir, files in os.walk(xml_path):\n",
    "        for file in files:\n",
    "            if os.path.splitext(file)[-1] == \".xml\" and os.path.getsize(os.path.join(path, file)) != None:\n",
    "                # Parse the xml file\n",
    "                tree = ET.parse(os.path.join(path, file))\n",
    "                root = tree.getroot()\n",
    "                for image in root.iter(\"image\"):\n",
    "                    distance = 0\n",
    "                    thickness = None\n",
    "                    # Define the points of the polyline\n",
    "                    root_points = list()\n",
    "                    for polyline in image.iter(\"polyline\"):\n",
    "                        if polyline.get(\"label\") == \"root\":\n",
    "                            root_points.append(polyline.get(\"points\"))\n",
    "                    for root_point in root_points:\n",
    "                        s_root_points = str(root_point).split(\";\")\n",
    "                        xy_coord = list()\n",
    "                        for s_root_point in s_root_points:\n",
    "                            x_coord = int(float((str(s_root_point).split(\",\")[0])))\n",
    "                            y_coord = int(float((str(s_root_point).split(\",\")[1])))\n",
    "                            xy_coord.append([x_coord, y_coord])\n",
    "                        # Create a LineString object from the points\n",
    "                        polyline = LineString(xy_coord)\n",
    "\n",
    "                        # Compute the length of the polyline\n",
    "                        distance += polyline.length\n",
    "                        thickness = distance / len(root_points)\n",
    "                            \n",
    "                    # Add a new row to the dataframe with the image name and length\n",
    "                    s = image.get(\"name\")\n",
    "                    root_name = s.split('_')[0]\n",
    "                    date_string = s.split('_')[-1].split(\".\")[0]\n",
    "                    date_time = datetime.strptime(date_string, \"%y%m%d%H%M%S\")\n",
    "                    formatted_date_time = date_time.strftime(\"%Y-%m-%d %H:%M:%S\")\n",
    "                    df = df.append({\"name\": root_name, \"time\": formatted_date_time, \"root_distance\": distance, 'root_thickness': thickness}, ignore_index=True)\n",
    "    return df                "
   ]
  },
  {
   "cell_type": "code",
   "execution_count": 30,
   "id": "d49095b2",
   "metadata": {},
   "outputs": [],
   "source": [
    "def main():\n",
    "    xml_path = r'C:/Users/user/Desktop/capstone/data/01_xml'\n",
    "    df = distance(xml_path)\n",
    "    df.to_excel('temporary_root_distance_thickness_first.xlsx', index=False)"
   ]
  },
  {
   "cell_type": "code",
   "execution_count": 31,
   "id": "12cf2a2b",
   "metadata": {},
   "outputs": [],
   "source": [
    "main()"
   ]
  },
  {
   "cell_type": "code",
   "execution_count": null,
   "id": "255d9ff6",
   "metadata": {},
   "outputs": [],
   "source": []
  }
 ],
 "metadata": {
  "kernelspec": {
   "display_name": "Python 3 (ipykernel)",
   "language": "python",
   "name": "python3"
  },
  "language_info": {
   "codemirror_mode": {
    "name": "ipython",
    "version": 3
   },
   "file_extension": ".py",
   "mimetype": "text/x-python",
   "name": "python",
   "nbconvert_exporter": "python",
   "pygments_lexer": "ipython3",
   "version": "3.7.13"
  }
 },
 "nbformat": 4,
 "nbformat_minor": 5
}
