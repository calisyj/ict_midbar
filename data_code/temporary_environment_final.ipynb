{
 "cells": [
  {
   "cell_type": "code",
   "execution_count": 1,
   "id": "3887460c",
   "metadata": {},
   "outputs": [],
   "source": [
    "import pandas as pd"
   ]
  },
  {
   "cell_type": "code",
   "execution_count": 2,
   "id": "b17a293e",
   "metadata": {},
   "outputs": [],
   "source": [
    "# load the dataframe\n",
    "df = pd.read_excel('temporary_environment_first.xlsx')"
   ]
  },
  {
   "cell_type": "code",
   "execution_count": 3,
   "id": "c1feb450",
   "metadata": {},
   "outputs": [],
   "source": [
    "# Convert the time column to datetime\n",
    "df['time'] = pd.to_datetime(df['time'])"
   ]
  },
  {
   "cell_type": "code",
   "execution_count": 4,
   "id": "66602177",
   "metadata": {},
   "outputs": [],
   "source": [
    "# Extract year, month, and day from the datetime\n",
    "df['year'] = df['time'].dt.year\n",
    "df['month'] = df['time'].dt.month\n",
    "df['day'] = df['time'].dt.day\n",
    "df['_id'] = df['_id']\n",
    "df['img_url'] = df['img_url']"
   ]
  },
  {
   "cell_type": "code",
   "execution_count": 5,
   "id": "1a018579",
   "metadata": {},
   "outputs": [],
   "source": [
    "#Group by year, month, day and take the mean of root_length column and last value of other columns\n",
    "df_last = df[['year','month','day','name','_id','img_url','t','h','c','bt']].drop_duplicates(subset=['year','month','day','_id','img_url'], keep='last')\n",
    "df = df.groupby(['year','month','day','name']).agg({'t': 'mean','h': 'mean','c': 'mean','bt': 'mean'}).reset_index()\n",
    "df_last.drop(['t'], axis=1, inplace=True)\n",
    "df_last.drop(['h'], axis=1, inplace=True)\n",
    "df_last.drop(['c'], axis=1, inplace=True)\n",
    "df_last.drop(['bt'], axis=1, inplace=True)\n",
    "df_last.rename(columns={'name': 'name_last'}, inplace=True)\n",
    "df = df.merge(df_last, on=['year','month','day'], suffixes=('',''))\n",
    "df = df.drop('name_last', axis=1)"
   ]
  },
  {
   "cell_type": "code",
   "execution_count": 6,
   "id": "83b01dc0",
   "metadata": {},
   "outputs": [],
   "source": [
    "df['time'] = df['year'].astype(str) + '-' + df['month'].astype(str) + '-' + df['day'].astype(str)"
   ]
  },
  {
   "cell_type": "code",
   "execution_count": 7,
   "id": "446f5f74",
   "metadata": {},
   "outputs": [],
   "source": [
    "# drop the year, month and day columns\n",
    "df = df.drop(columns=['year','month','day'])"
   ]
  },
  {
   "cell_type": "code",
   "execution_count": 8,
   "id": "903bdb94",
   "metadata": {},
   "outputs": [],
   "source": [
    "df = df.drop_duplicates(subset=['name', 't', 'h', 'c', 'bt', 'time'], keep='last')"
   ]
  },
  {
   "cell_type": "code",
   "execution_count": 9,
   "id": "14887d34",
   "metadata": {},
   "outputs": [
    {
     "data": {
      "text/html": [
       "<div>\n",
       "<style scoped>\n",
       "    .dataframe tbody tr th:only-of-type {\n",
       "        vertical-align: middle;\n",
       "    }\n",
       "\n",
       "    .dataframe tbody tr th {\n",
       "        vertical-align: top;\n",
       "    }\n",
       "\n",
       "    .dataframe thead th {\n",
       "        text-align: right;\n",
       "    }\n",
       "</style>\n",
       "<table border=\"1\" class=\"dataframe\">\n",
       "  <thead>\n",
       "    <tr style=\"text-align: right;\">\n",
       "      <th></th>\n",
       "      <th>name</th>\n",
       "      <th>t</th>\n",
       "      <th>h</th>\n",
       "      <th>c</th>\n",
       "      <th>bt</th>\n",
       "      <th>_id</th>\n",
       "      <th>img_url</th>\n",
       "      <th>time</th>\n",
       "    </tr>\n",
       "  </thead>\n",
       "  <tbody>\n",
       "    <tr>\n",
       "      <th>14</th>\n",
       "      <td>root1</td>\n",
       "      <td>26.234000</td>\n",
       "      <td>73.282000</td>\n",
       "      <td>469.200000</td>\n",
       "      <td>24.774000</td>\n",
       "      <td>62b1d822c29475acaec0dfff</td>\n",
       "      <td>https://midbarrootimage.s3.ap-northeast-2.amaz...</td>\n",
       "      <td>2022-6-21</td>\n",
       "    </tr>\n",
       "    <tr>\n",
       "      <th>29</th>\n",
       "      <td>root2</td>\n",
       "      <td>25.720000</td>\n",
       "      <td>69.188000</td>\n",
       "      <td>471.600000</td>\n",
       "      <td>24.822000</td>\n",
       "      <td>62b1d822c29475acaec0dfff</td>\n",
       "      <td>https://midbarrootimage.s3.ap-northeast-2.amaz...</td>\n",
       "      <td>2022-6-21</td>\n",
       "    </tr>\n",
       "    <tr>\n",
       "      <th>44</th>\n",
       "      <td>root3</td>\n",
       "      <td>26.206000</td>\n",
       "      <td>68.590000</td>\n",
       "      <td>459.600000</td>\n",
       "      <td>22.950000</td>\n",
       "      <td>62b1d822c29475acaec0dfff</td>\n",
       "      <td>https://midbarrootimage.s3.ap-northeast-2.amaz...</td>\n",
       "      <td>2022-6-21</td>\n",
       "    </tr>\n",
       "    <tr>\n",
       "      <th>116</th>\n",
       "      <td>root1</td>\n",
       "      <td>26.192917</td>\n",
       "      <td>69.350000</td>\n",
       "      <td>469.208333</td>\n",
       "      <td>24.655833</td>\n",
       "      <td>62b329a2c29475acaec0e017</td>\n",
       "      <td>https://midbarrootimage.s3.ap-northeast-2.amaz...</td>\n",
       "      <td>2022-6-22</td>\n",
       "    </tr>\n",
       "    <tr>\n",
       "      <th>188</th>\n",
       "      <td>root2</td>\n",
       "      <td>25.781667</td>\n",
       "      <td>63.196667</td>\n",
       "      <td>473.708333</td>\n",
       "      <td>24.674167</td>\n",
       "      <td>62b329a2c29475acaec0e017</td>\n",
       "      <td>https://midbarrootimage.s3.ap-northeast-2.amaz...</td>\n",
       "      <td>2022-6-22</td>\n",
       "    </tr>\n",
       "    <tr>\n",
       "      <th>...</th>\n",
       "      <td>...</td>\n",
       "      <td>...</td>\n",
       "      <td>...</td>\n",
       "      <td>...</td>\n",
       "      <td>...</td>\n",
       "      <td>...</td>\n",
       "      <td>...</td>\n",
       "      <td>...</td>\n",
       "    </tr>\n",
       "    <tr>\n",
       "      <th>64977</th>\n",
       "      <td>root2</td>\n",
       "      <td>6.662500</td>\n",
       "      <td>26.406250</td>\n",
       "      <td>430.000000</td>\n",
       "      <td>3.070417</td>\n",
       "      <td>63a5138ada811403ea7a7a20</td>\n",
       "      <td>https://root3-221207.s3.ap-northeast-2.amazona...</td>\n",
       "      <td>2022-12-23</td>\n",
       "    </tr>\n",
       "    <tr>\n",
       "      <th>65061</th>\n",
       "      <td>root3</td>\n",
       "      <td>5.994286</td>\n",
       "      <td>28.006857</td>\n",
       "      <td>537.485714</td>\n",
       "      <td>2.904000</td>\n",
       "      <td>63a5138ada811403ea7a7a20</td>\n",
       "      <td>https://root3-221207.s3.ap-northeast-2.amazona...</td>\n",
       "      <td>2022-12-23</td>\n",
       "    </tr>\n",
       "    <tr>\n",
       "      <th>65109</th>\n",
       "      <td>root2</td>\n",
       "      <td>6.017292</td>\n",
       "      <td>30.457708</td>\n",
       "      <td>439.750000</td>\n",
       "      <td>2.723125</td>\n",
       "      <td>63a711c760f66814acb3db1c</td>\n",
       "      <td>https://root2-221025.s3.ap-northeast-2.amazona...</td>\n",
       "      <td>2022-12-24</td>\n",
       "    </tr>\n",
       "    <tr>\n",
       "      <th>65157</th>\n",
       "      <td>root2</td>\n",
       "      <td>6.372500</td>\n",
       "      <td>34.476875</td>\n",
       "      <td>439.520833</td>\n",
       "      <td>3.361458</td>\n",
       "      <td>63a8634760f66814acb3db4c</td>\n",
       "      <td>https://root2-221025.s3.ap-northeast-2.amazona...</td>\n",
       "      <td>2022-12-25</td>\n",
       "    </tr>\n",
       "    <tr>\n",
       "      <th>65194</th>\n",
       "      <td>root2</td>\n",
       "      <td>6.678108</td>\n",
       "      <td>35.039459</td>\n",
       "      <td>448.000000</td>\n",
       "      <td>3.704054</td>\n",
       "      <td>63a9676f60f66814acb3db71</td>\n",
       "      <td>https://root2-221025.s3.ap-northeast-2.amazona...</td>\n",
       "      <td>2022-12-26</td>\n",
       "    </tr>\n",
       "  </tbody>\n",
       "</table>\n",
       "<p>426 rows × 8 columns</p>\n",
       "</div>"
      ],
      "text/plain": [
       "        name          t          h           c         bt  \\\n",
       "14     root1  26.234000  73.282000  469.200000  24.774000   \n",
       "29     root2  25.720000  69.188000  471.600000  24.822000   \n",
       "44     root3  26.206000  68.590000  459.600000  22.950000   \n",
       "116    root1  26.192917  69.350000  469.208333  24.655833   \n",
       "188    root2  25.781667  63.196667  473.708333  24.674167   \n",
       "...      ...        ...        ...         ...        ...   \n",
       "64977  root2   6.662500  26.406250  430.000000   3.070417   \n",
       "65061  root3   5.994286  28.006857  537.485714   2.904000   \n",
       "65109  root2   6.017292  30.457708  439.750000   2.723125   \n",
       "65157  root2   6.372500  34.476875  439.520833   3.361458   \n",
       "65194  root2   6.678108  35.039459  448.000000   3.704054   \n",
       "\n",
       "                            _id  \\\n",
       "14     62b1d822c29475acaec0dfff   \n",
       "29     62b1d822c29475acaec0dfff   \n",
       "44     62b1d822c29475acaec0dfff   \n",
       "116    62b329a2c29475acaec0e017   \n",
       "188    62b329a2c29475acaec0e017   \n",
       "...                         ...   \n",
       "64977  63a5138ada811403ea7a7a20   \n",
       "65061  63a5138ada811403ea7a7a20   \n",
       "65109  63a711c760f66814acb3db1c   \n",
       "65157  63a8634760f66814acb3db4c   \n",
       "65194  63a9676f60f66814acb3db71   \n",
       "\n",
       "                                                 img_url        time  \n",
       "14     https://midbarrootimage.s3.ap-northeast-2.amaz...   2022-6-21  \n",
       "29     https://midbarrootimage.s3.ap-northeast-2.amaz...   2022-6-21  \n",
       "44     https://midbarrootimage.s3.ap-northeast-2.amaz...   2022-6-21  \n",
       "116    https://midbarrootimage.s3.ap-northeast-2.amaz...   2022-6-22  \n",
       "188    https://midbarrootimage.s3.ap-northeast-2.amaz...   2022-6-22  \n",
       "...                                                  ...         ...  \n",
       "64977  https://root3-221207.s3.ap-northeast-2.amazona...  2022-12-23  \n",
       "65061  https://root3-221207.s3.ap-northeast-2.amazona...  2022-12-23  \n",
       "65109  https://root2-221025.s3.ap-northeast-2.amazona...  2022-12-24  \n",
       "65157  https://root2-221025.s3.ap-northeast-2.amazona...  2022-12-25  \n",
       "65194  https://root2-221025.s3.ap-northeast-2.amazona...  2022-12-26  \n",
       "\n",
       "[426 rows x 8 columns]"
      ]
     },
     "execution_count": 9,
     "metadata": {},
     "output_type": "execute_result"
    }
   ],
   "source": [
    "df"
   ]
  },
  {
   "cell_type": "code",
   "execution_count": 10,
   "id": "44db267b",
   "metadata": {},
   "outputs": [],
   "source": [
    "# specify the output file name and path\n",
    "output_file = 'temporary_preprocessed_environment_final.xlsx'"
   ]
  },
  {
   "cell_type": "code",
   "execution_count": 11,
   "id": "fab5f6d7",
   "metadata": {},
   "outputs": [],
   "source": [
    "# write the combined data to the output file\n",
    "df.to_excel(output_file, index=False)"
   ]
  },
  {
   "cell_type": "code",
   "execution_count": 12,
   "id": "c55cbd48",
   "metadata": {},
   "outputs": [],
   "source": [
    "root1_data = df[df['name'] == 'root1']\n",
    "root2_data = df[df['name'] == 'root2']\n",
    "root3_data = df[df['name'] == 'root3']"
   ]
  },
  {
   "cell_type": "code",
   "execution_count": 13,
   "id": "50e4f5b1",
   "metadata": {},
   "outputs": [],
   "source": [
    "output_file1 = 'temporary_preprocessed_environment_root1_final.xlsx'\n",
    "output_file2 = 'temporary_preprocessed_environment_root2_final.xlsx'\n",
    "output_file3 = 'temporary_preprocessed_environment_root3_final.xlsx'"
   ]
  },
  {
   "cell_type": "code",
   "execution_count": 15,
   "id": "ba45c75c",
   "metadata": {},
   "outputs": [],
   "source": [
    "root1_data.to_excel(output_file1, index=False)\n",
    "root2_data.to_excel(output_file2, index=False)\n",
    "root3_data.to_excel(output_file3, index=False)"
   ]
  },
  {
   "cell_type": "code",
   "execution_count": null,
   "id": "28653256",
   "metadata": {},
   "outputs": [],
   "source": []
  }
 ],
 "metadata": {
  "kernelspec": {
   "display_name": "Python 3 (ipykernel)",
   "language": "python",
   "name": "python3"
  },
  "language_info": {
   "codemirror_mode": {
    "name": "ipython",
    "version": 3
   },
   "file_extension": ".py",
   "mimetype": "text/x-python",
   "name": "python",
   "nbconvert_exporter": "python",
   "pygments_lexer": "ipython3",
   "version": "3.7.13"
  }
 },
 "nbformat": 4,
 "nbformat_minor": 5
}
