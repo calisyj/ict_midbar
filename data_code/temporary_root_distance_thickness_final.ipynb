{
 "cells": [
  {
   "cell_type": "code",
   "execution_count": 18,
   "id": "7aea753f",
   "metadata": {},
   "outputs": [],
   "source": [
    "import pandas as pd"
   ]
  },
  {
   "cell_type": "code",
   "execution_count": 19,
   "id": "e6ce7cab",
   "metadata": {},
   "outputs": [],
   "source": [
    "# load the dataframe\n",
    "df = pd.read_excel('temporary_root_distance_thickness_first.xlsx')"
   ]
  },
  {
   "cell_type": "code",
   "execution_count": 20,
   "id": "51e0e747",
   "metadata": {},
   "outputs": [],
   "source": [
    "# Convert the time column to datetime\n",
    "df['time'] = pd.to_datetime(df['time'])"
   ]
  },
  {
   "cell_type": "code",
   "execution_count": 21,
   "id": "7c4bc8a8",
   "metadata": {},
   "outputs": [],
   "source": [
    "# Extract year, month, and day from the datetime\n",
    "df['year'] = df['time'].dt.year\n",
    "df['month'] = df['time'].dt.month\n",
    "df['day'] = df['time'].dt.day"
   ]
  },
  {
   "cell_type": "code",
   "execution_count": 22,
   "id": "9d575593",
   "metadata": {},
   "outputs": [],
   "source": [
    "#Group by year, month, day and take the mean of root_length column and last value of other columns\n",
    "df = df.groupby(['year','month','day','name']).agg({'root_distance': 'mean', 'root_thickness': 'mean'}).reset_index()\n",
    "df_last = df.groupby(['year','month','day']).last().reset_index()\n",
    "df_last.drop(['root_distance'], axis=1, inplace=True)\n",
    "df_last.drop(['root_thickness'], axis=1, inplace=True)\n",
    "df_last.rename(columns={'name': 'name_last'}, inplace=True)\n",
    "df = df.merge(df_last, on=['year','month','day'], suffixes=('',''))\n",
    "df = df.drop('name_last', axis=1)"
   ]
  },
  {
   "cell_type": "code",
   "execution_count": 23,
   "id": "c9ab7a00",
   "metadata": {},
   "outputs": [],
   "source": [
    "df['time'] = df['year'].astype(str) + '-' + df['month'].astype(str) + '-' + df['day'].astype(str)"
   ]
  },
  {
   "cell_type": "code",
   "execution_count": 24,
   "id": "df37ea00",
   "metadata": {},
   "outputs": [],
   "source": [
    "# drop the year, month and day columns\n",
    "df = df.drop(columns=['year','month','day'])"
   ]
  },
  {
   "cell_type": "code",
   "execution_count": 25,
   "id": "57a2f0b4",
   "metadata": {
    "scrolled": true
   },
   "outputs": [
    {
     "data": {
      "text/html": [
       "<div>\n",
       "<style scoped>\n",
       "    .dataframe tbody tr th:only-of-type {\n",
       "        vertical-align: middle;\n",
       "    }\n",
       "\n",
       "    .dataframe tbody tr th {\n",
       "        vertical-align: top;\n",
       "    }\n",
       "\n",
       "    .dataframe thead th {\n",
       "        text-align: right;\n",
       "    }\n",
       "</style>\n",
       "<table border=\"1\" class=\"dataframe\">\n",
       "  <thead>\n",
       "    <tr style=\"text-align: right;\">\n",
       "      <th></th>\n",
       "      <th>name</th>\n",
       "      <th>root_distance</th>\n",
       "      <th>root_thickness</th>\n",
       "      <th>time</th>\n",
       "    </tr>\n",
       "  </thead>\n",
       "  <tbody>\n",
       "    <tr>\n",
       "      <th>0</th>\n",
       "      <td>root1</td>\n",
       "      <td>382.381071</td>\n",
       "      <td>191.190536</td>\n",
       "      <td>2022-6-15</td>\n",
       "    </tr>\n",
       "    <tr>\n",
       "      <th>1</th>\n",
       "      <td>root1</td>\n",
       "      <td>493.316442</td>\n",
       "      <td>114.319648</td>\n",
       "      <td>2022-6-16</td>\n",
       "    </tr>\n",
       "    <tr>\n",
       "      <th>2</th>\n",
       "      <td>root2</td>\n",
       "      <td>1832.706987</td>\n",
       "      <td>183.270699</td>\n",
       "      <td>2022-6-16</td>\n",
       "    </tr>\n",
       "    <tr>\n",
       "      <th>3</th>\n",
       "      <td>root1</td>\n",
       "      <td>831.168203</td>\n",
       "      <td>117.991359</td>\n",
       "      <td>2022-6-17</td>\n",
       "    </tr>\n",
       "    <tr>\n",
       "      <th>4</th>\n",
       "      <td>root1</td>\n",
       "      <td>1430.733424</td>\n",
       "      <td>146.460395</td>\n",
       "      <td>2022-6-18</td>\n",
       "    </tr>\n",
       "    <tr>\n",
       "      <th>...</th>\n",
       "      <td>...</td>\n",
       "      <td>...</td>\n",
       "      <td>...</td>\n",
       "      <td>...</td>\n",
       "    </tr>\n",
       "    <tr>\n",
       "      <th>242</th>\n",
       "      <td>root3</td>\n",
       "      <td>860.691207</td>\n",
       "      <td>72.610160</td>\n",
       "      <td>2022-12-19</td>\n",
       "    </tr>\n",
       "    <tr>\n",
       "      <th>243</th>\n",
       "      <td>root3</td>\n",
       "      <td>889.087917</td>\n",
       "      <td>74.090660</td>\n",
       "      <td>2022-12-20</td>\n",
       "    </tr>\n",
       "    <tr>\n",
       "      <th>244</th>\n",
       "      <td>root3</td>\n",
       "      <td>938.340322</td>\n",
       "      <td>73.973717</td>\n",
       "      <td>2022-12-21</td>\n",
       "    </tr>\n",
       "    <tr>\n",
       "      <th>245</th>\n",
       "      <td>root3</td>\n",
       "      <td>990.229725</td>\n",
       "      <td>73.367257</td>\n",
       "      <td>2022-12-22</td>\n",
       "    </tr>\n",
       "    <tr>\n",
       "      <th>246</th>\n",
       "      <td>root3</td>\n",
       "      <td>1022.539187</td>\n",
       "      <td>68.169279</td>\n",
       "      <td>2022-12-23</td>\n",
       "    </tr>\n",
       "  </tbody>\n",
       "</table>\n",
       "<p>247 rows × 4 columns</p>\n",
       "</div>"
      ],
      "text/plain": [
       "      name  root_distance  root_thickness        time\n",
       "0    root1     382.381071      191.190536   2022-6-15\n",
       "1    root1     493.316442      114.319648   2022-6-16\n",
       "2    root2    1832.706987      183.270699   2022-6-16\n",
       "3    root1     831.168203      117.991359   2022-6-17\n",
       "4    root1    1430.733424      146.460395   2022-6-18\n",
       "..     ...            ...             ...         ...\n",
       "242  root3     860.691207       72.610160  2022-12-19\n",
       "243  root3     889.087917       74.090660  2022-12-20\n",
       "244  root3     938.340322       73.973717  2022-12-21\n",
       "245  root3     990.229725       73.367257  2022-12-22\n",
       "246  root3    1022.539187       68.169279  2022-12-23\n",
       "\n",
       "[247 rows x 4 columns]"
      ]
     },
     "execution_count": 25,
     "metadata": {},
     "output_type": "execute_result"
    }
   ],
   "source": [
    "df"
   ]
  },
  {
   "cell_type": "code",
   "execution_count": 26,
   "id": "21293fe2",
   "metadata": {},
   "outputs": [],
   "source": [
    "# specify the output file name and path\n",
    "output_file = 'temporary_root_distance_thickness_final.xlsx'"
   ]
  },
  {
   "cell_type": "code",
   "execution_count": 27,
   "id": "48f96260",
   "metadata": {},
   "outputs": [],
   "source": [
    "# write the combined data to the output file\n",
    "df.to_excel(output_file, index=False)"
   ]
  },
  {
   "cell_type": "code",
   "execution_count": null,
   "id": "c8993090",
   "metadata": {},
   "outputs": [],
   "source": []
  }
 ],
 "metadata": {
  "kernelspec": {
   "display_name": "Python 3 (ipykernel)",
   "language": "python",
   "name": "python3"
  },
  "language_info": {
   "codemirror_mode": {
    "name": "ipython",
    "version": 3
   },
   "file_extension": ".py",
   "mimetype": "text/x-python",
   "name": "python",
   "nbconvert_exporter": "python",
   "pygments_lexer": "ipython3",
   "version": "3.7.13"
  }
 },
 "nbformat": 4,
 "nbformat_minor": 5
}
