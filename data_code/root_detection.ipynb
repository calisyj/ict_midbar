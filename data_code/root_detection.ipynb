{
 "cells": [
  {
   "cell_type": "code",
   "execution_count": 125,
   "id": "05e3699c",
   "metadata": {},
   "outputs": [
    {
     "data": {
      "text/plain": [
       "'\\nPython code that selects the analysis area by loading the image, corrects it through black and white, brightness, saturation, and contrast methods, visualizes the gray scale image processing histogram to check the scale distribution, and obtains the size of the white area.\\n'"
      ]
     },
     "execution_count": 125,
     "metadata": {},
     "output_type": "execute_result"
    }
   ],
   "source": [
    "'''\n",
    "Python code that selects the analysis area by loading the image, corrects it through black and white, brightness, saturation, and contrast methods, visualizes the gray scale image processing histogram to check the scale distribution, and obtains the size of the white area.\n",
    "'''"
   ]
  },
  {
   "cell_type": "code",
   "execution_count": 1,
   "id": "6481470f",
   "metadata": {},
   "outputs": [],
   "source": [
    "import cv2\n",
    "import numpy as np\n",
    "import matplotlib.pyplot as plt"
   ]
  },
  {
   "cell_type": "code",
   "execution_count": 5,
   "id": "684761d6",
   "metadata": {},
   "outputs": [],
   "source": [
    "img_path = 'C:/users/user/desktop/capstone/data/02_imgs/09.08/root2_220818'"
   ]
  },
  {
   "cell_type": "code",
   "execution_count": 6,
   "id": "80728855",
   "metadata": {},
   "outputs": [],
   "source": [
    "# Load the image\n",
    "img = cv2.imread(img_path + '/' +'root2_220821002925.jpg', cv2.IMREAD_COLOR)\n",
    "cropped = img[100:1080, 700:1500]"
   ]
  },
  {
   "cell_type": "code",
   "execution_count": 11,
   "id": "419f93d2",
   "metadata": {},
   "outputs": [
    {
     "name": "stdout",
     "output_type": "stream",
     "text": [
      "Image shape: (1080, 1980, 3)\n"
     ]
    }
   ],
   "source": [
    "if img is None:\n",
    "    print(\"Error loading image\")\n",
    "else:\n",
    "    print(\"Image shape:\", img.shape)\n",
    "    cv2.imshow(\"root\", cropped)\n",
    "    cv2.waitKey(0)\n",
    "    \n",
    "    cv2.destroyAllWindows()"
   ]
  },
  {
   "cell_type": "code",
   "execution_count": 9,
   "id": "cff4abdd",
   "metadata": {},
   "outputs": [],
   "source": [
    "# Convert to grayscale\n",
    "gray = cv2.cvtColor(cropped, cv2.COLOR_BGR2GRAY)"
   ]
  },
  {
   "cell_type": "code",
   "execution_count": 12,
   "id": "946b836b",
   "metadata": {},
   "outputs": [
    {
     "name": "stdout",
     "output_type": "stream",
     "text": [
      "Image shape: (1080, 1980, 3)\n"
     ]
    }
   ],
   "source": [
    "if img is None:\n",
    "    print(\"Error loading image\")\n",
    "else:\n",
    "    print(\"Image shape:\", img.shape)\n",
    "    cv2.imshow(\"root\", gray)\n",
    "    cv2.waitKey(0)\n",
    "    cv2.destroyAllWindows()"
   ]
  },
  {
   "cell_type": "code",
   "execution_count": 13,
   "id": "7205247d",
   "metadata": {},
   "outputs": [],
   "source": [
    "def adjust_brightness_saturation_contrast(gray, brightness=1.5, saturation=2, contrast=50):\n",
    "    gray = cv2.addWeighted(gray, brightness, np.zeros(gray.shape, dtype=gray.dtype), 0, contrast) \n",
    "    gray = cv2.cvtColor(gray, cv2.COLOR_GRAY2BGR)\n",
    "    gray = cv2.cvtColor(gray, cv2.COLOR_BGR2HSV)\n",
    "    gray[..., 1] = gray[..., 1] * saturation\n",
    "    gray = cv2.cvtColor(gray, cv2.COLOR_HSV2BGR)\n",
    "    gray = cv2.cvtColor(gray, cv2.COLOR_BGR2GRAY)\n",
    "    return gray"
   ]
  },
  {
   "cell_type": "code",
   "execution_count": 30,
   "id": "c54e72f2",
   "metadata": {},
   "outputs": [],
   "source": [
    "gray = adjust_brightness_saturation_contrast(gray, brightness=3, saturation=2, contrast=10)"
   ]
  },
  {
   "cell_type": "code",
   "execution_count": 32,
   "id": "bd0f6c3d",
   "metadata": {},
   "outputs": [
    {
     "name": "stdout",
     "output_type": "stream",
     "text": [
      "Image shape: (1080, 1980, 3)\n"
     ]
    }
   ],
   "source": [
    "if img is None:\n",
    "    print(\"Error loading image\")\n",
    "else:\n",
    "    print(\"Image shape:\", img.shape)\n",
    "    cv2.imshow(\"root\", gray)\n",
    "    cv2.waitKey(0)\n",
    "    cv2.destroyAllWindows()\n",
    "#gray = cv2.cvtColor(cropped, cv2.COLOR_BGR2GRAY) # 보정 전으로 초기화"
   ]
  },
  {
   "cell_type": "code",
   "execution_count": 27,
   "id": "fe2641f2",
   "metadata": {},
   "outputs": [
    {
     "data": {
      "image/png": "[encoded data removed]",
      "text/plain": [
       "<Figure size 640x480 with 1 Axes>"
      ]
     },
     "metadata": {},
     "output_type": "display_data"
    }
   ],
   "source": [
    "# Visualize the grayscale histogram\n",
    "hist = cv2.calcHist([gray], [0], None, [256], [0, 256])\n",
    "plt.plot(hist)\n",
    "plt.ylim([0,1000])\n",
    "plt.show()"
   ]
  },
  {
   "cell_type": "code",
   "execution_count": 28,
   "id": "b8440b6a",
   "metadata": {},
   "outputs": [],
   "source": [
    "# Threshold the image to get binary image\n",
    "_, binary = cv2.threshold(gray, 127, 255, cv2.THRESH_BINARY)"
   ]
  },
  {
   "cell_type": "code",
   "execution_count": 29,
   "id": "0f767e73",
   "metadata": {},
   "outputs": [
    {
     "name": "stdout",
     "output_type": "stream",
     "text": [
      "Size of white area: 19995\n"
     ]
    }
   ],
   "source": [
    "# Obtain the size of the white area\n",
    "white_pixels = cv2.countNonZero(binary)\n",
    "print(\"Size of white area:\", white_pixels)"
   ]
  },
  {
   "cell_type": "code",
   "execution_count": null,
   "id": "96a37a84",
   "metadata": {},
   "outputs": [],
   "source": []
  }
 ],
 "metadata": {
  "kernelspec": {
   "display_name": "Python 3 (ipykernel)",
   "language": "python",
   "name": "python3"
  },
  "language_info": {
   "codemirror_mode": {
    "name": "ipython",
    "version": 3
   },
   "file_extension": ".py",
   "mimetype": "text/x-python",
   "name": "python",
   "nbconvert_exporter": "python",
   "pygments_lexer": "ipython3",
   "version": "3.7.13"
  }
 },
 "nbformat": 4,
 "nbformat_minor": 5
}
